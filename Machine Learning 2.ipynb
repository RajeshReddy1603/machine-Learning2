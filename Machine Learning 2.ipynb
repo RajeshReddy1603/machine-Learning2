{
 "cells": [
  {
   "cell_type": "code",
   "execution_count": 1,
   "id": "355d847d-31d0-48a0-a322-0b6414f59680",
   "metadata": {},
   "outputs": [
    {
     "data": {
      "text/plain": [
       "[array([[ 3,  7, 11, 15, 19],\n",
       "        [ 0,  4,  8, 12, 16],\n",
       "        [ 1,  5,  9, 13, 17]]),\n",
       " array([[ 2,  6, 10, 14, 18]])]"
      ]
     },
     "execution_count": 1,
     "metadata": {},
     "output_type": "execute_result"
    }
   ],
   "source": [
    "import numpy as np\n",
    "from sklearn.model_selection import train_test_split\n",
    "a=np.arange(20).reshape(5,4).T\n",
    "result=train_test_split(a)\n",
    "result"
   ]
  },
  {
   "cell_type": "code",
   "execution_count": 2,
   "id": "62e24513-3123-438b-8f3a-df46af831987",
   "metadata": {},
   "outputs": [
    {
     "name": "stdout",
     "output_type": "stream",
     "text": [
      "[[ 9 19]\n",
      " [ 1 11]\n",
      " [ 6 16]\n",
      " [ 7 17]\n",
      " [ 3 13]\n",
      " [ 0 10]\n",
      " [ 5 15]]\n",
      "[[ 2 12]\n",
      " [ 8 18]\n",
      " [ 4 14]]\n",
      "[9 1 6 7 3 0 5]\n",
      "[2 8 4]\n"
     ]
    }
   ],
   "source": [
    "import numpy as np\n",
    "from sklearn.model_selection import train_test_split\n",
    "x=np.arange(20).reshape(2,10).T\n",
    "\n",
    "y=np.arange(10)\n",
    "\n",
    "X_train,X_test,Y_train,Y_test = train_test_split(x,y,random_state=0)\n",
    "print(X_train)\n",
    "print(X_test)\n",
    "print(Y_train)\n",
    "print(Y_test)\n"
   ]
  },
  {
   "cell_type": "code",
   "execution_count": 3,
   "id": "e14b5891-3d6d-4715-aa93-fdeb904c2ea7",
   "metadata": {},
   "outputs": [
    {
     "data": {
      "text/html": [
       "<div>\n",
       "<style scoped>\n",
       "    .dataframe tbody tr th:only-of-type {\n",
       "        vertical-align: middle;\n",
       "    }\n",
       "\n",
       "    .dataframe tbody tr th {\n",
       "        vertical-align: top;\n",
       "    }\n",
       "\n",
       "    .dataframe thead th {\n",
       "        text-align: right;\n",
       "    }\n",
       "</style>\n",
       "<table border=\"1\" class=\"dataframe\">\n",
       "  <thead>\n",
       "    <tr style=\"text-align: right;\">\n",
       "      <th></th>\n",
       "      <th>area</th>\n",
       "      <th>price</th>\n",
       "    </tr>\n",
       "  </thead>\n",
       "  <tbody>\n",
       "    <tr>\n",
       "      <th>0</th>\n",
       "      <td>2600</td>\n",
       "      <td>550000</td>\n",
       "    </tr>\n",
       "    <tr>\n",
       "      <th>1</th>\n",
       "      <td>3000</td>\n",
       "      <td>565000</td>\n",
       "    </tr>\n",
       "    <tr>\n",
       "      <th>2</th>\n",
       "      <td>3200</td>\n",
       "      <td>610000</td>\n",
       "    </tr>\n",
       "    <tr>\n",
       "      <th>3</th>\n",
       "      <td>3600</td>\n",
       "      <td>680000</td>\n",
       "    </tr>\n",
       "    <tr>\n",
       "      <th>4</th>\n",
       "      <td>4000</td>\n",
       "      <td>725000</td>\n",
       "    </tr>\n",
       "  </tbody>\n",
       "</table>\n",
       "</div>"
      ],
      "text/plain": [
       "   area   price\n",
       "0  2600  550000\n",
       "1  3000  565000\n",
       "2  3200  610000\n",
       "3  3600  680000\n",
       "4  4000  725000"
      ]
     },
     "execution_count": 3,
     "metadata": {},
     "output_type": "execute_result"
    }
   ],
   "source": [
    "import pandas as pd\n",
    "df=pd.read_csv(\"homeprices.csv\")\n",
    "df"
   ]
  },
  {
   "cell_type": "code",
   "execution_count": 4,
   "id": "3e47df91-33ca-4b96-8fad-8d2864367ff3",
   "metadata": {},
   "outputs": [
    {
     "data": {
      "text/plain": [
       "<matplotlib.collections.PathCollection at 0x18c2a0eaba0>"
      ]
     },
     "execution_count": 4,
     "metadata": {},
     "output_type": "execute_result"
    },
    {
     "data": {
      "image/png": "[encoded data removed]",
      "text/plain": [
       "<Figure size 640x480 with 1 Axes>"
      ]
     },
     "metadata": {},
     "output_type": "display_data"
    }
   ],
   "source": [
    "import matplotlib.pyplot as plt\n",
    "import pandas as pd\n",
    "df=pd.read_csv(\"homeprices.csv\")\n",
    "plt.xlabel(\"area\")\n",
    "plt.ylabel(\"price\")\n",
    "plt.scatter(df[\"area\"],df[\"price\"],marker=\"*\")\n"
   ]
  },
  {
   "cell_type": "code",
   "execution_count": 5,
   "id": "2c5d2ed6-9335-4341-aea2-b749e808bc2d",
   "metadata": {},
   "outputs": [
    {
     "data": {
      "text/plain": [
       "array([[2600],\n",
       "       [3000],\n",
       "       [3200],\n",
       "       [3600],\n",
       "       [4000]])"
      ]
     },
     "execution_count": 5,
     "metadata": {},
     "output_type": "execute_result"
    }
   ],
   "source": [
    "import pandas as pd\n",
    "from sklearn.linear_model import LinearRegression\n",
    "df=pd.read_csv(\"homeprices.csv\")\n",
    "df1=df.drop(columns=\"price\")\n",
    "df1.values\n"
   ]
  },
  {
   "cell_type": "code",
   "execution_count": 6,
   "id": "4660058b-6f6a-4245-8c6f-2f9e9b55f0e4",
   "metadata": {},
   "outputs": [
    {
     "data": {
      "text/plain": [
       "array([550000, 565000, 610000, 680000, 725000])"
      ]
     },
     "execution_count": 6,
     "metadata": {},
     "output_type": "execute_result"
    }
   ],
   "source": [
    "df[\"price\"].values"
   ]
  },
  {
   "cell_type": "code",
   "execution_count": 7,
   "id": "44826aa4-c725-41bf-a543-34a7099694a5",
   "metadata": {},
   "outputs": [
    {
     "name": "stdout",
     "output_type": "stream",
     "text": [
      "[628715.75342466]\n"
     ]
    }
   ],
   "source": [
    "obj=LinearRegression()\n",
    "obj.fit(df1.values,df.price.values)\n",
    "print(obj.predict([[3300]]))"
   ]
  },
  {
   "cell_type": "code",
   "execution_count": 8,
   "id": "4ab2b63d-a258-4cac-a052-63f628d4267a",
   "metadata": {},
   "outputs": [
    {
     "name": "stdout",
     "output_type": "stream",
     "text": [
      "[859554.79452055]\n"
     ]
    }
   ],
   "source": [
    "import pandas as pd\n",
    "from sklearn.linear_model import LinearRegression\n",
    "df=pd.read_csv(\"homeprices.csv\")\n",
    "df1=df.drop(columns=\"price\")\n",
    "df1.values\n",
    "obj=LinearRegression()\n",
    "result=obj.fit(df1.values,df.price.values)\n",
    "print(result.predict([[5000]]))"
   ]
  },
  {
   "cell_type": "code",
   "execution_count": 9,
   "id": "7b81d56b-1a5f-4ba1-a21b-0d051e9d4d63",
   "metadata": {},
   "outputs": [
    {
     "name": "stdout",
     "output_type": "stream",
     "text": [
      "[1402705.47945205]\n"
     ]
    }
   ],
   "source": [
    "import pandas as pd\n",
    "from sklearn.linear_model import LinearRegression\n",
    "df=pd.read_csv(\"homeprices.csv\")\n",
    "df1=df.drop(\"price\",axis=\"columns\")\n",
    "obj=LinearRegression()\n",
    "obj.fit(df1.values,df.price.values)\n",
    "print(obj.predict([[9000]]))"
   ]
  },
  {
   "cell_type": "code",
   "execution_count": 10,
   "id": "f20ec406-5ad1-446e-bf72-89a3b7f826ff",
   "metadata": {},
   "outputs": [
    {
     "data": {
      "text/html": [
       "<div>\n",
       "<style scoped>\n",
       "    .dataframe tbody tr th:only-of-type {\n",
       "        vertical-align: middle;\n",
       "    }\n",
       "\n",
       "    .dataframe tbody tr th {\n",
       "        vertical-align: top;\n",
       "    }\n",
       "\n",
       "    .dataframe thead th {\n",
       "        text-align: right;\n",
       "    }\n",
       "</style>\n",
       "<table border=\"1\" class=\"dataframe\">\n",
       "  <thead>\n",
       "    <tr style=\"text-align: right;\">\n",
       "      <th></th>\n",
       "      <th>area</th>\n",
       "      <th>price</th>\n",
       "    </tr>\n",
       "  </thead>\n",
       "  <tbody>\n",
       "    <tr>\n",
       "      <th>0</th>\n",
       "      <td>2600</td>\n",
       "      <td>550000</td>\n",
       "    </tr>\n",
       "    <tr>\n",
       "      <th>1</th>\n",
       "      <td>3000</td>\n",
       "      <td>565000</td>\n",
       "    </tr>\n",
       "    <tr>\n",
       "      <th>2</th>\n",
       "      <td>3200</td>\n",
       "      <td>610000</td>\n",
       "    </tr>\n",
       "    <tr>\n",
       "      <th>3</th>\n",
       "      <td>3600</td>\n",
       "      <td>680000</td>\n",
       "    </tr>\n",
       "    <tr>\n",
       "      <th>4</th>\n",
       "      <td>4000</td>\n",
       "      <td>725000</td>\n",
       "    </tr>\n",
       "  </tbody>\n",
       "</table>\n",
       "</div>"
      ],
      "text/plain": [
       "   area   price\n",
       "0  2600  550000\n",
       "1  3000  565000\n",
       "2  3200  610000\n",
       "3  3600  680000\n",
       "4  4000  725000"
      ]
     },
     "execution_count": 10,
     "metadata": {},
     "output_type": "execute_result"
    }
   ],
   "source": [
    "import pandas as pd\n",
    "df=pd.read_csv(\"homeprices.csv\")\n",
    "df"
   ]
  },
  {
   "cell_type": "code",
   "execution_count": 11,
   "id": "18497628-4621-4355-94c8-a07e67deccdf",
   "metadata": {},
   "outputs": [
    {
     "data": {
      "text/plain": [
       "array([[2600],\n",
       "       [3000],\n",
       "       [3200],\n",
       "       [3600],\n",
       "       [4000]])"
      ]
     },
     "execution_count": 11,
     "metadata": {},
     "output_type": "execute_result"
    }
   ],
   "source": [
    "import pandas as pd\n",
    "from sklearn.linear_model import LinearRegression\n",
    "df=pd.read_csv(\"homeprices.csv\")\n",
    "df1=df.drop(columns=\"price\")\n",
    "df1.values"
   ]
  },
  {
   "cell_type": "code",
   "execution_count": 12,
   "id": "e4e1de91-ff92-4ae6-9363-2ab058055fdf",
   "metadata": {},
   "outputs": [
    {
     "data": {
      "text/plain": [
       "array([550000, 565000, 610000, 680000, 725000])"
      ]
     },
     "execution_count": 12,
     "metadata": {},
     "output_type": "execute_result"
    }
   ],
   "source": [
    "df.price.values"
   ]
  },
  {
   "cell_type": "code",
   "execution_count": 13,
   "id": "c7af5ecf-c91a-470b-b119-c5f92b6a878b",
   "metadata": {},
   "outputs": [
    {
     "name": "stdout",
     "output_type": "stream",
     "text": [
      "[710188.35616438]\n"
     ]
    }
   ],
   "source": [
    "obj=LinearRegression()\n",
    "obj.fit(df1.values,df.price.values)\n",
    "print(obj.predict([[3900]]))"
   ]
  },
  {
   "cell_type": "code",
   "execution_count": 14,
   "id": "16a116e4-b8c4-474e-a99f-803b921c861e",
   "metadata": {},
   "outputs": [
    {
     "data": {
      "text/plain": [
       "[array([6, 5, 8, 7, 1, 4]), array([0, 9, 2, 3])]"
      ]
     },
     "execution_count": 14,
     "metadata": {},
     "output_type": "execute_result"
    }
   ],
   "source": [
    "import numpy as np\n",
    "from sklearn.model_selection import train_test_split\n",
    "a=np.arange(10)\n",
    "result=train_test_split(a,test_size=0.4)\n",
    "result"
   ]
  },
  {
   "cell_type": "code",
   "execution_count": 15,
   "id": "6966488e-fa26-4b32-a646-5c067d4746e2",
   "metadata": {},
   "outputs": [
    {
     "data": {
      "text/plain": [
       "array([19, 11,  6, 15, 12,  7, 18,  8,  2, 17,  3, 10,  1, 13])"
      ]
     },
     "execution_count": 15,
     "metadata": {},
     "output_type": "execute_result"
    }
   ],
   "source": [
    "import numpy as np\n",
    "from sklearn.model_selection import train_test_split\n",
    "a=np.arange(20)\n",
    "X_train,X_test=train_test_split(a,test_size=0.3)\n",
    "X_train"
   ]
  },
  {
   "cell_type": "code",
   "execution_count": 16,
   "id": "e04d669b-3794-4e1c-b531-47bbfc6c2e63",
   "metadata": {},
   "outputs": [
    {
     "data": {
      "text/plain": [
       "array([ 5,  0,  9, 14, 16,  4])"
      ]
     },
     "execution_count": 16,
     "metadata": {},
     "output_type": "execute_result"
    }
   ],
   "source": [
    "X_test"
   ]
  },
  {
   "cell_type": "code",
   "execution_count": 17,
   "id": "d008d16b-487a-4ab7-9b4b-73133b6e2228",
   "metadata": {},
   "outputs": [],
   "source": [
    "import numpy as np\n",
    "from sklearn.model_selection import train_test_split\n",
    "a=np.arange(20).reshape(2,10).T\n",
    "b=np.arange(10)\n",
    "X_train,X_test,Y_train,Y_test=train_test_split(a,b,test_size=0.2)"
   ]
  },
  {
   "cell_type": "code",
   "execution_count": 18,
   "id": "26040373-06cc-45c7-8bf0-7e2f66bda17f",
   "metadata": {},
   "outputs": [
    {
     "data": {
      "text/plain": [
       "array([[ 1, 11],\n",
       "       [ 0, 10],\n",
       "       [ 8, 18],\n",
       "       [ 6, 16],\n",
       "       [ 9, 19],\n",
       "       [ 2, 12],\n",
       "       [ 3, 13],\n",
       "       [ 5, 15]])"
      ]
     },
     "execution_count": 18,
     "metadata": {},
     "output_type": "execute_result"
    }
   ],
   "source": [
    "X_train"
   ]
  },
  {
   "cell_type": "code",
   "execution_count": 19,
   "id": "e7f95e4d-f12b-4787-9b85-cdd99e0ab205",
   "metadata": {},
   "outputs": [
    {
     "data": {
      "text/plain": [
       "array([[ 7, 17],\n",
       "       [ 4, 14]])"
      ]
     },
     "execution_count": 19,
     "metadata": {},
     "output_type": "execute_result"
    }
   ],
   "source": [
    "X_test"
   ]
  },
  {
   "cell_type": "code",
   "execution_count": 20,
   "id": "a2831642-122d-4969-9c77-12432066a2d7",
   "metadata": {},
   "outputs": [
    {
     "data": {
      "text/plain": [
       "array([1, 0, 8, 6, 9, 2, 3, 5])"
      ]
     },
     "execution_count": 20,
     "metadata": {},
     "output_type": "execute_result"
    }
   ],
   "source": [
    "Y_train"
   ]
  },
  {
   "cell_type": "code",
   "execution_count": 21,
   "id": "34c2de6d-1ca1-46ac-bc3f-3b15811aab76",
   "metadata": {},
   "outputs": [
    {
     "data": {
      "text/plain": [
       "array([7, 4])"
      ]
     },
     "execution_count": 21,
     "metadata": {},
     "output_type": "execute_result"
    }
   ],
   "source": [
    "Y_test"
   ]
  },
  {
   "cell_type": "code",
   "execution_count": 22,
   "id": "0dcc91f9-cf55-4517-ba32-a1b28b162dfe",
   "metadata": {},
   "outputs": [
    {
     "data": {
      "text/html": [
       "<div>\n",
       "<style scoped>\n",
       "    .dataframe tbody tr th:only-of-type {\n",
       "        vertical-align: middle;\n",
       "    }\n",
       "\n",
       "    .dataframe tbody tr th {\n",
       "        vertical-align: top;\n",
       "    }\n",
       "\n",
       "    .dataframe thead th {\n",
       "        text-align: right;\n",
       "    }\n",
       "</style>\n",
       "<table border=\"1\" class=\"dataframe\">\n",
       "  <thead>\n",
       "    <tr style=\"text-align: right;\">\n",
       "      <th></th>\n",
       "      <th>area</th>\n",
       "      <th>price</th>\n",
       "    </tr>\n",
       "  </thead>\n",
       "  <tbody>\n",
       "    <tr>\n",
       "      <th>0</th>\n",
       "      <td>2600</td>\n",
       "      <td>550000</td>\n",
       "    </tr>\n",
       "    <tr>\n",
       "      <th>1</th>\n",
       "      <td>3000</td>\n",
       "      <td>565000</td>\n",
       "    </tr>\n",
       "    <tr>\n",
       "      <th>2</th>\n",
       "      <td>3200</td>\n",
       "      <td>610000</td>\n",
       "    </tr>\n",
       "    <tr>\n",
       "      <th>3</th>\n",
       "      <td>3600</td>\n",
       "      <td>680000</td>\n",
       "    </tr>\n",
       "    <tr>\n",
       "      <th>4</th>\n",
       "      <td>4000</td>\n",
       "      <td>725000</td>\n",
       "    </tr>\n",
       "  </tbody>\n",
       "</table>\n",
       "</div>"
      ],
      "text/plain": [
       "   area   price\n",
       "0  2600  550000\n",
       "1  3000  565000\n",
       "2  3200  610000\n",
       "3  3600  680000\n",
       "4  4000  725000"
      ]
     },
     "execution_count": 22,
     "metadata": {},
     "output_type": "execute_result"
    }
   ],
   "source": [
    "import pandas as pd\n",
    "df=pd.read_csv(\"homeprices.csv\")\n",
    "df"
   ]
  },
  {
   "cell_type": "code",
   "execution_count": 23,
   "id": "37d769b2-1ffa-4bae-92fd-95edf7372c39",
   "metadata": {},
   "outputs": [
    {
     "data": {
      "text/plain": [
       "<matplotlib.collections.PathCollection at 0x18c2c362210>"
      ]
     },
     "execution_count": 23,
     "metadata": {},
     "output_type": "execute_result"
    },
    {
     "data": {
      "image/png": "[encoded data removed]",
      "text/plain": [
       "<Figure size 640x480 with 1 Axes>"
      ]
     },
     "metadata": {},
     "output_type": "display_data"
    }
   ],
   "source": [
    "import matplotlib.pyplot as plt\n",
    "plt.xlabel(\"area\")\n",
    "plt.ylabel(\"price\")\n",
    "plt.scatter(df.area,df.price,marker=\"*\")"
   ]
  },
  {
   "cell_type": "code",
   "execution_count": 24,
   "id": "58238ca7-5d1c-4809-b1e9-6d81fa81c87c",
   "metadata": {},
   "outputs": [
    {
     "data": {
      "text/plain": [
       "array([[2600],\n",
       "       [3000],\n",
       "       [3200],\n",
       "       [3600],\n",
       "       [4000]])"
      ]
     },
     "execution_count": 24,
     "metadata": {},
     "output_type": "execute_result"
    }
   ],
   "source": [
    "import pandas as pd\n",
    "from sklearn.linear_model import LinearRegression\n",
    "df=pd.read_csv(\"homeprices.csv\")\n",
    "df1=df.drop(\"price\",axis=\"columns\")\n",
    "df1.values"
   ]
  },
  {
   "cell_type": "code",
   "execution_count": 25,
   "id": "8b3fa5d5-0f35-45b2-8371-63870aeaa741",
   "metadata": {},
   "outputs": [
    {
     "data": {
      "text/plain": [
       "array([550000, 565000, 610000, 680000, 725000])"
      ]
     },
     "execution_count": 25,
     "metadata": {},
     "output_type": "execute_result"
    }
   ],
   "source": [
    "df.price.values"
   ]
  },
  {
   "cell_type": "code",
   "execution_count": 26,
   "id": "b78f501b-56dc-4560-8c0a-8b77c70a96c8",
   "metadata": {},
   "outputs": [
    {
     "name": "stdout",
     "output_type": "stream",
     "text": [
      "[859554.79452055]\n"
     ]
    }
   ],
   "source": [
    "obj=LinearRegression()\n",
    "obj.fit(df1.values,df.price.values)\n",
    "print(obj.predict([[5000]]))"
   ]
  },
  {
   "cell_type": "code",
   "execution_count": 27,
   "id": "0d66dd91-c99c-490d-9bdb-1a6a982f07be",
   "metadata": {},
   "outputs": [
    {
     "data": {
      "text/html": [
       "<div>\n",
       "<style scoped>\n",
       "    .dataframe tbody tr th:only-of-type {\n",
       "        vertical-align: middle;\n",
       "    }\n",
       "\n",
       "    .dataframe tbody tr th {\n",
       "        vertical-align: top;\n",
       "    }\n",
       "\n",
       "    .dataframe thead th {\n",
       "        text-align: right;\n",
       "    }\n",
       "</style>\n",
       "<table border=\"1\" class=\"dataframe\">\n",
       "  <thead>\n",
       "    <tr style=\"text-align: right;\">\n",
       "      <th></th>\n",
       "      <th>ord id</th>\n",
       "      <th>cust name</th>\n",
       "      <th>cust id</th>\n",
       "      <th>prod name</th>\n",
       "      <th>prod cost</th>\n",
       "    </tr>\n",
       "  </thead>\n",
       "  <tbody>\n",
       "    <tr>\n",
       "      <th>0</th>\n",
       "      <td>192837</td>\n",
       "      <td>Veeru</td>\n",
       "      <td>3</td>\n",
       "      <td>LG Mobile</td>\n",
       "      <td>65999</td>\n",
       "    </tr>\n",
       "    <tr>\n",
       "      <th>1</th>\n",
       "      <td>192838</td>\n",
       "      <td>Neelima</td>\n",
       "      <td>19</td>\n",
       "      <td>Apple iPad 10.2-inch</td>\n",
       "      <td>63000</td>\n",
       "    </tr>\n",
       "    <tr>\n",
       "      <th>2</th>\n",
       "      <td>192839</td>\n",
       "      <td>Balaji</td>\n",
       "      <td>12</td>\n",
       "      <td>34in Ultrawide Monitor</td>\n",
       "      <td>75999</td>\n",
       "    </tr>\n",
       "    <tr>\n",
       "      <th>3</th>\n",
       "      <td>192840</td>\n",
       "      <td>Shahid</td>\n",
       "      <td>20</td>\n",
       "      <td>iPhone 11</td>\n",
       "      <td>60000</td>\n",
       "    </tr>\n",
       "    <tr>\n",
       "      <th>4</th>\n",
       "      <td>192841</td>\n",
       "      <td>Vinay</td>\n",
       "      <td>10</td>\n",
       "      <td>Bose SoundSport Headphones</td>\n",
       "      <td>69999</td>\n",
       "    </tr>\n",
       "    <tr>\n",
       "      <th>5</th>\n",
       "      <td>192842</td>\n",
       "      <td>Vinay</td>\n",
       "      <td>10</td>\n",
       "      <td>20in Monitor</td>\n",
       "      <td>65999</td>\n",
       "    </tr>\n",
       "    <tr>\n",
       "      <th>6</th>\n",
       "      <td>192843</td>\n",
       "      <td>Balaji</td>\n",
       "      <td>12</td>\n",
       "      <td>iPhone 8</td>\n",
       "      <td>55999</td>\n",
       "    </tr>\n",
       "    <tr>\n",
       "      <th>7</th>\n",
       "      <td>192844</td>\n",
       "      <td>Nireekshan</td>\n",
       "      <td>1</td>\n",
       "      <td>27in 4K Gaming Monitor</td>\n",
       "      <td>55999</td>\n",
       "    </tr>\n",
       "    <tr>\n",
       "      <th>8</th>\n",
       "      <td>192845</td>\n",
       "      <td>Venu</td>\n",
       "      <td>23</td>\n",
       "      <td>iPhone 9</td>\n",
       "      <td>55999</td>\n",
       "    </tr>\n",
       "    <tr>\n",
       "      <th>9</th>\n",
       "      <td>192846</td>\n",
       "      <td>Veeru</td>\n",
       "      <td>3</td>\n",
       "      <td>20in Monitor</td>\n",
       "      <td>63000</td>\n",
       "    </tr>\n",
       "    <tr>\n",
       "      <th>10</th>\n",
       "      <td>192847</td>\n",
       "      <td>Madhurima</td>\n",
       "      <td>7</td>\n",
       "      <td>Flatscreen TV</td>\n",
       "      <td>63000</td>\n",
       "    </tr>\n",
       "    <tr>\n",
       "      <th>11</th>\n",
       "      <td>192848</td>\n",
       "      <td>Kedar</td>\n",
       "      <td>2</td>\n",
       "      <td>Flatscreen TV</td>\n",
       "      <td>63999</td>\n",
       "    </tr>\n",
       "    <tr>\n",
       "      <th>12</th>\n",
       "      <td>192849</td>\n",
       "      <td>Venu</td>\n",
       "      <td>23</td>\n",
       "      <td>Samsung Galaxy S20</td>\n",
       "      <td>65999</td>\n",
       "    </tr>\n",
       "    <tr>\n",
       "      <th>13</th>\n",
       "      <td>192850</td>\n",
       "      <td>Neelima</td>\n",
       "      <td>19</td>\n",
       "      <td>ThinkPad Laptop</td>\n",
       "      <td>60000</td>\n",
       "    </tr>\n",
       "    <tr>\n",
       "      <th>14</th>\n",
       "      <td>192851</td>\n",
       "      <td>Sagar</td>\n",
       "      <td>6</td>\n",
       "      <td>Samsung Galaxy S9 Plus</td>\n",
       "      <td>69999</td>\n",
       "    </tr>\n",
       "    <tr>\n",
       "      <th>15</th>\n",
       "      <td>192852</td>\n",
       "      <td>Veeru</td>\n",
       "      <td>3</td>\n",
       "      <td>iPhone 9</td>\n",
       "      <td>60000</td>\n",
       "    </tr>\n",
       "    <tr>\n",
       "      <th>16</th>\n",
       "      <td>192853</td>\n",
       "      <td>Lavanya</td>\n",
       "      <td>16</td>\n",
       "      <td>iPhone 7s</td>\n",
       "      <td>55000</td>\n",
       "    </tr>\n",
       "    <tr>\n",
       "      <th>17</th>\n",
       "      <td>192854</td>\n",
       "      <td>Mallikarjun</td>\n",
       "      <td>13</td>\n",
       "      <td>LG Mobile</td>\n",
       "      <td>65999</td>\n",
       "    </tr>\n",
       "    <tr>\n",
       "      <th>18</th>\n",
       "      <td>192855</td>\n",
       "      <td>Vijay</td>\n",
       "      <td>9</td>\n",
       "      <td>Samsung Galaxy S9 Plus</td>\n",
       "      <td>69000</td>\n",
       "    </tr>\n",
       "    <tr>\n",
       "      <th>19</th>\n",
       "      <td>192856</td>\n",
       "      <td>Karteek</td>\n",
       "      <td>4</td>\n",
       "      <td>iPhone 8</td>\n",
       "      <td>65000</td>\n",
       "    </tr>\n",
       "    <tr>\n",
       "      <th>20</th>\n",
       "      <td>192857</td>\n",
       "      <td>Mohan</td>\n",
       "      <td>24</td>\n",
       "      <td>Macbook Pro Laptop</td>\n",
       "      <td>59000</td>\n",
       "    </tr>\n",
       "    <tr>\n",
       "      <th>21</th>\n",
       "      <td>192858</td>\n",
       "      <td>Venu</td>\n",
       "      <td>23</td>\n",
       "      <td>Bose SoundSport Headphones</td>\n",
       "      <td>63000</td>\n",
       "    </tr>\n",
       "    <tr>\n",
       "      <th>22</th>\n",
       "      <td>192859</td>\n",
       "      <td>Madhurima</td>\n",
       "      <td>7</td>\n",
       "      <td>LG Washing Machine</td>\n",
       "      <td>69000</td>\n",
       "    </tr>\n",
       "    <tr>\n",
       "      <th>23</th>\n",
       "      <td>192860</td>\n",
       "      <td>Venki</td>\n",
       "      <td>15</td>\n",
       "      <td>iPhone 8</td>\n",
       "      <td>60000</td>\n",
       "    </tr>\n",
       "    <tr>\n",
       "      <th>24</th>\n",
       "      <td>192861</td>\n",
       "      <td>Veeru</td>\n",
       "      <td>3</td>\n",
       "      <td>Samsung Galaxy S20</td>\n",
       "      <td>51999</td>\n",
       "    </tr>\n",
       "    <tr>\n",
       "      <th>25</th>\n",
       "      <td>192862</td>\n",
       "      <td>Nireekshan</td>\n",
       "      <td>1</td>\n",
       "      <td>Flatscreen TV</td>\n",
       "      <td>75999</td>\n",
       "    </tr>\n",
       "    <tr>\n",
       "      <th>26</th>\n",
       "      <td>192863</td>\n",
       "      <td>Sagar</td>\n",
       "      <td>6</td>\n",
       "      <td>iPhone 8</td>\n",
       "      <td>69000</td>\n",
       "    </tr>\n",
       "    <tr>\n",
       "      <th>27</th>\n",
       "      <td>192864</td>\n",
       "      <td>Kedar</td>\n",
       "      <td>2</td>\n",
       "      <td>Google Phone</td>\n",
       "      <td>60000</td>\n",
       "    </tr>\n",
       "    <tr>\n",
       "      <th>28</th>\n",
       "      <td>192865</td>\n",
       "      <td>Madhurima</td>\n",
       "      <td>7</td>\n",
       "      <td>LG ThinQ Refrigerator</td>\n",
       "      <td>61000</td>\n",
       "    </tr>\n",
       "    <tr>\n",
       "      <th>29</th>\n",
       "      <td>192866</td>\n",
       "      <td>Karteek</td>\n",
       "      <td>4</td>\n",
       "      <td>iPhone 8</td>\n",
       "      <td>50000</td>\n",
       "    </tr>\n",
       "  </tbody>\n",
       "</table>\n",
       "</div>"
      ],
      "text/plain": [
       "    ord id    cust name  cust id                   prod name  prod cost\n",
       "0   192837        Veeru        3                   LG Mobile      65999\n",
       "1   192838      Neelima       19        Apple iPad 10.2-inch      63000\n",
       "2   192839       Balaji       12      34in Ultrawide Monitor      75999\n",
       "3   192840       Shahid       20                   iPhone 11      60000\n",
       "4   192841        Vinay       10  Bose SoundSport Headphones      69999\n",
       "5   192842        Vinay       10                20in Monitor      65999\n",
       "6   192843       Balaji       12                    iPhone 8      55999\n",
       "7   192844   Nireekshan        1      27in 4K Gaming Monitor      55999\n",
       "8   192845         Venu       23                    iPhone 9      55999\n",
       "9   192846        Veeru        3                20in Monitor      63000\n",
       "10  192847    Madhurima        7               Flatscreen TV      63000\n",
       "11  192848        Kedar        2               Flatscreen TV      63999\n",
       "12  192849         Venu       23          Samsung Galaxy S20      65999\n",
       "13  192850      Neelima       19             ThinkPad Laptop      60000\n",
       "14  192851        Sagar        6      Samsung Galaxy S9 Plus      69999\n",
       "15  192852        Veeru        3                    iPhone 9      60000\n",
       "16  192853      Lavanya       16                   iPhone 7s      55000\n",
       "17  192854  Mallikarjun       13                   LG Mobile      65999\n",
       "18  192855        Vijay        9      Samsung Galaxy S9 Plus      69000\n",
       "19  192856      Karteek        4                    iPhone 8      65000\n",
       "20  192857        Mohan       24          Macbook Pro Laptop      59000\n",
       "21  192858         Venu       23  Bose SoundSport Headphones      63000\n",
       "22  192859    Madhurima        7          LG Washing Machine      69000\n",
       "23  192860        Venki       15                    iPhone 8      60000\n",
       "24  192861        Veeru        3          Samsung Galaxy S20      51999\n",
       "25  192862   Nireekshan        1               Flatscreen TV      75999\n",
       "26  192863        Sagar        6                    iPhone 8      69000\n",
       "27  192864        Kedar        2                Google Phone      60000\n",
       "28  192865    Madhurima        7      LG ThinQ Refrigerator       61000\n",
       "29  192866      Karteek        4                    iPhone 8      50000"
      ]
     },
     "execution_count": 27,
     "metadata": {},
     "output_type": "execute_result"
    }
   ],
   "source": [
    "import pandas as pd\n",
    "df=pd.read_csv(\"sales3.csv\")\n",
    "df"
   ]
  },
  {
   "cell_type": "code",
   "execution_count": 28,
   "id": "c7f2aed9-5001-4466-bf98-81b323089b46",
   "metadata": {},
   "outputs": [
    {
     "data": {
      "text/plain": [
       "array([[2600],\n",
       "       [3000],\n",
       "       [3200],\n",
       "       [3600],\n",
       "       [4000]])"
      ]
     },
     "execution_count": 28,
     "metadata": {},
     "output_type": "execute_result"
    }
   ],
   "source": [
    "import pandas as pd\n",
    "from sklearn.linear_model import LinearRegression\n",
    "df=pd.read_csv(\"homeprices.csv\")\n",
    "df1=df.drop(columns=\"price\")\n",
    "df1.values"
   ]
  },
  {
   "cell_type": "code",
   "execution_count": 29,
   "id": "526c1157-1f4d-43bb-a24a-702abe0e2d81",
   "metadata": {},
   "outputs": [
    {
     "data": {
      "text/plain": [
       "array([550000, 565000, 610000, 680000, 725000])"
      ]
     },
     "execution_count": 29,
     "metadata": {},
     "output_type": "execute_result"
    }
   ],
   "source": [
    "df.price.values"
   ]
  },
  {
   "cell_type": "code",
   "execution_count": 30,
   "id": "a788b22c-359a-4653-b7fa-704405be7c6f",
   "metadata": {},
   "outputs": [
    {
     "name": "stdout",
     "output_type": "stream",
     "text": [
      "[859554.79452055]\n"
     ]
    }
   ],
   "source": [
    "obj=LinearRegression()\n",
    "obj.fit(df1.values,df.price.values)\n",
    "print(obj.predict([[5000]]))"
   ]
  },
  {
   "cell_type": "code",
   "execution_count": 31,
   "id": "1e63f0a3-131d-458f-a549-5e8b2ff35535",
   "metadata": {},
   "outputs": [
    {
     "data": {
      "text/html": [
       "<div>\n",
       "<style scoped>\n",
       "    .dataframe tbody tr th:only-of-type {\n",
       "        vertical-align: middle;\n",
       "    }\n",
       "\n",
       "    .dataframe tbody tr th {\n",
       "        vertical-align: top;\n",
       "    }\n",
       "\n",
       "    .dataframe thead th {\n",
       "        text-align: right;\n",
       "    }\n",
       "</style>\n",
       "<table border=\"1\" class=\"dataframe\">\n",
       "  <thead>\n",
       "    <tr style=\"text-align: right;\">\n",
       "      <th></th>\n",
       "      <th>names</th>\n",
       "      <th>values</th>\n",
       "      <th>names_n</th>\n",
       "      <th>values_n</th>\n",
       "    </tr>\n",
       "  </thead>\n",
       "  <tbody>\n",
       "    <tr>\n",
       "      <th>0</th>\n",
       "      <td>rajesh</td>\n",
       "      <td>hyd</td>\n",
       "      <td>1</td>\n",
       "      <td>0</td>\n",
       "    </tr>\n",
       "    <tr>\n",
       "      <th>1</th>\n",
       "      <td>maddi</td>\n",
       "      <td>vja</td>\n",
       "      <td>0</td>\n",
       "      <td>3</td>\n",
       "    </tr>\n",
       "    <tr>\n",
       "      <th>2</th>\n",
       "      <td>today</td>\n",
       "      <td>kra</td>\n",
       "      <td>2</td>\n",
       "      <td>2</td>\n",
       "    </tr>\n",
       "    <tr>\n",
       "      <th>3</th>\n",
       "      <td>tomorrow</td>\n",
       "      <td>kera</td>\n",
       "      <td>3</td>\n",
       "      <td>1</td>\n",
       "    </tr>\n",
       "  </tbody>\n",
       "</table>\n",
       "</div>"
      ],
      "text/plain": [
       "      names values  names_n  values_n\n",
       "0    rajesh    hyd        1         0\n",
       "1     maddi    vja        0         3\n",
       "2     today    kra        2         2\n",
       "3  tomorrow   kera        3         1"
      ]
     },
     "execution_count": 31,
     "metadata": {},
     "output_type": "execute_result"
    }
   ],
   "source": [
    "import pandas as pd\n",
    "from sklearn.preprocessing import LabelEncoder\n",
    "a={\n",
    "    \"names\":[\"rajesh\",\"maddi\",\"today\",\"tomorrow\"],\n",
    "     \"values\":[\"hyd\",\"vja\",\"kra\",\"kera\"]\n",
    "}\n",
    "df=pd.DataFrame(a)\n",
    "obj=LabelEncoder()\n",
    "df[\"names_n\"]=obj.fit_transform(df[\"names\"])\n",
    "df[\"values_n\"]=obj.fit_transform(df[\"values\"])\n",
    "df"
   ]
  },
  {
   "cell_type": "code",
   "execution_count": 32,
   "id": "1a1be3dc-c940-4c3c-bd3b-4fe1eb952b15",
   "metadata": {},
   "outputs": [
    {
     "data": {
      "text/html": [
       "<div>\n",
       "<style scoped>\n",
       "    .dataframe tbody tr th:only-of-type {\n",
       "        vertical-align: middle;\n",
       "    }\n",
       "\n",
       "    .dataframe tbody tr th {\n",
       "        vertical-align: top;\n",
       "    }\n",
       "\n",
       "    .dataframe thead th {\n",
       "        text-align: right;\n",
       "    }\n",
       "</style>\n",
       "<table border=\"1\" class=\"dataframe\">\n",
       "  <thead>\n",
       "    <tr style=\"text-align: right;\">\n",
       "      <th></th>\n",
       "      <th>x</th>\n",
       "      <th>y</th>\n",
       "    </tr>\n",
       "  </thead>\n",
       "  <tbody>\n",
       "    <tr>\n",
       "      <th>0</th>\n",
       "      <td>0.00</td>\n",
       "      <td>0.00</td>\n",
       "    </tr>\n",
       "    <tr>\n",
       "      <th>1</th>\n",
       "      <td>0.25</td>\n",
       "      <td>0.25</td>\n",
       "    </tr>\n",
       "    <tr>\n",
       "      <th>2</th>\n",
       "      <td>0.50</td>\n",
       "      <td>0.50</td>\n",
       "    </tr>\n",
       "    <tr>\n",
       "      <th>3</th>\n",
       "      <td>0.75</td>\n",
       "      <td>0.75</td>\n",
       "    </tr>\n",
       "    <tr>\n",
       "      <th>4</th>\n",
       "      <td>1.00</td>\n",
       "      <td>1.00</td>\n",
       "    </tr>\n",
       "  </tbody>\n",
       "</table>\n",
       "</div>"
      ],
      "text/plain": [
       "      x     y\n",
       "0  0.00  0.00\n",
       "1  0.25  0.25\n",
       "2  0.50  0.50\n",
       "3  0.75  0.75\n",
       "4  1.00  1.00"
      ]
     },
     "execution_count": 32,
     "metadata": {},
     "output_type": "execute_result"
    }
   ],
   "source": [
    "import pandas as pd\n",
    "from sklearn.preprocessing import MinMaxScaler\n",
    "a={\n",
    "    \"x\":[10,20,30,40,50],\n",
    "     \"y\":[100,200,300,400,500]\n",
    "}\n",
    "df=pd.DataFrame(a)\n",
    "obj=MinMaxScaler(feature_range=(0,1))\n",
    "df[[\"x\",\"y\"]]=obj.fit_transform(df[[\"x\",\"y\"]])\n",
    "df"
   ]
  },
  {
   "cell_type": "code",
   "execution_count": 33,
   "id": "18d484fa-4df2-44d7-958c-a2b22c4c587a",
   "metadata": {},
   "outputs": [
    {
     "name": "stdout",
     "output_type": "stream",
     "text": [
      "   values  price  area\n",
      "0     234      2   786\n",
      "1     567      3   567\n",
      "2     899      4   899\n"
     ]
    }
   ],
   "source": [
    "import pandas as pd\n",
    "import numpy as np\n",
    "a={\n",
    "    \"values\":[234,567,899,999],\n",
    "     \"price\":[2,3,4,200],\n",
    "      \"area\":[786,567,899,678]\n",
    "}\n",
    "df=pd.DataFrame(a)\n",
    "cond1=df[\"price\"]<6\n",
    "print(df[cond1])"
   ]
  },
  {
   "cell_type": "code",
   "execution_count": 34,
   "id": "41f10d0a-797f-4f5a-9b58-3219c23717ed",
   "metadata": {},
   "outputs": [
    {
     "data": {
      "text/html": [
       "<div>\n",
       "<style scoped>\n",
       "    .dataframe tbody tr th:only-of-type {\n",
       "        vertical-align: middle;\n",
       "    }\n",
       "\n",
       "    .dataframe tbody tr th {\n",
       "        vertical-align: top;\n",
       "    }\n",
       "\n",
       "    .dataframe thead th {\n",
       "        text-align: right;\n",
       "    }\n",
       "</style>\n",
       "<table border=\"1\" class=\"dataframe\">\n",
       "  <thead>\n",
       "    <tr style=\"text-align: right;\">\n",
       "      <th></th>\n",
       "      <th>values</th>\n",
       "      <th>price</th>\n",
       "      <th>area</th>\n",
       "      <th>outliers</th>\n",
       "    </tr>\n",
       "  </thead>\n",
       "  <tbody>\n",
       "    <tr>\n",
       "      <th>0</th>\n",
       "      <td>234</td>\n",
       "      <td>2</td>\n",
       "      <td>786</td>\n",
       "      <td>0</td>\n",
       "    </tr>\n",
       "    <tr>\n",
       "      <th>1</th>\n",
       "      <td>567</td>\n",
       "      <td>3</td>\n",
       "      <td>567</td>\n",
       "      <td>0</td>\n",
       "    </tr>\n",
       "    <tr>\n",
       "      <th>2</th>\n",
       "      <td>899</td>\n",
       "      <td>4</td>\n",
       "      <td>899</td>\n",
       "      <td>0</td>\n",
       "    </tr>\n",
       "    <tr>\n",
       "      <th>3</th>\n",
       "      <td>999</td>\n",
       "      <td>200</td>\n",
       "      <td>678</td>\n",
       "      <td>1</td>\n",
       "    </tr>\n",
       "  </tbody>\n",
       "</table>\n",
       "</div>"
      ],
      "text/plain": [
       "   values  price  area  outliers\n",
       "0     234      2   786         0\n",
       "1     567      3   567         0\n",
       "2     899      4   899         0\n",
       "3     999    200   678         1"
      ]
     },
     "execution_count": 34,
     "metadata": {},
     "output_type": "execute_result"
    }
   ],
   "source": [
    "df[\"outliers\"]=np.where(cond1,0,1)\n",
    "df"
   ]
  },
  {
   "cell_type": "code",
   "execution_count": 35,
   "id": "728884f0-e946-4169-8c5a-a633e9239ce0",
   "metadata": {},
   "outputs": [
    {
     "data": {
      "text/html": [
       "<div>\n",
       "<style scoped>\n",
       "    .dataframe tbody tr th:only-of-type {\n",
       "        vertical-align: middle;\n",
       "    }\n",
       "\n",
       "    .dataframe tbody tr th {\n",
       "        vertical-align: top;\n",
       "    }\n",
       "\n",
       "    .dataframe thead th {\n",
       "        text-align: right;\n",
       "    }\n",
       "</style>\n",
       "<table border=\"1\" class=\"dataframe\">\n",
       "  <thead>\n",
       "    <tr style=\"text-align: right;\">\n",
       "      <th></th>\n",
       "      <th>marks</th>\n",
       "      <th>gender</th>\n",
       "      <th>result</th>\n",
       "    </tr>\n",
       "  </thead>\n",
       "  <tbody>\n",
       "    <tr>\n",
       "      <th>0</th>\n",
       "      <td>85.0</td>\n",
       "      <td>M</td>\n",
       "      <td>verygood</td>\n",
       "    </tr>\n",
       "    <tr>\n",
       "      <th>1</th>\n",
       "      <td>95.0</td>\n",
       "      <td>F</td>\n",
       "      <td>excellent</td>\n",
       "    </tr>\n",
       "    <tr>\n",
       "      <th>2</th>\n",
       "      <td>60.0</td>\n",
       "      <td>NaN</td>\n",
       "      <td>good</td>\n",
       "    </tr>\n",
       "    <tr>\n",
       "      <th>3</th>\n",
       "      <td>78.0</td>\n",
       "      <td>M</td>\n",
       "      <td>average</td>\n",
       "    </tr>\n",
       "    <tr>\n",
       "      <th>4</th>\n",
       "      <td>70.0</td>\n",
       "      <td>M</td>\n",
       "      <td>good</td>\n",
       "    </tr>\n",
       "    <tr>\n",
       "      <th>5</th>\n",
       "      <td>78.0</td>\n",
       "      <td>NaN</td>\n",
       "      <td>verygood</td>\n",
       "    </tr>\n",
       "    <tr>\n",
       "      <th>6</th>\n",
       "      <td>60.0</td>\n",
       "      <td>F</td>\n",
       "      <td>verygood</td>\n",
       "    </tr>\n",
       "    <tr>\n",
       "      <th>7</th>\n",
       "      <td>98.0</td>\n",
       "      <td>M</td>\n",
       "      <td>excellent</td>\n",
       "    </tr>\n",
       "  </tbody>\n",
       "</table>\n",
       "</div>"
      ],
      "text/plain": [
       "   marks gender     result\n",
       "0   85.0      M   verygood\n",
       "1   95.0      F  excellent\n",
       "2   60.0    NaN       good\n",
       "3   78.0      M    average\n",
       "4   70.0      M       good\n",
       "5   78.0    NaN   verygood\n",
       "6   60.0      F   verygood\n",
       "7   98.0      M  excellent"
      ]
     },
     "execution_count": 35,
     "metadata": {},
     "output_type": "execute_result"
    }
   ],
   "source": [
    "import pandas as pd\n",
    "from sklearn.impute import SimpleImputer\n",
    "students = [\n",
    "              [85, 'M', 'verygood'],\n",
    "              [95, 'F', 'excellent'],\n",
    "              [60, np.nan, 'good'],\n",
    "              [np.nan, 'M', 'average'],\n",
    "               [70, 'M', 'good'],\n",
    "              [np.nan, np.nan, 'verygood'],\n",
    "              [60, 'F', 'verygood'],\n",
    "              [98, 'M', 'excellent']]\n",
    "cols=[\"marks\",\"gender\",\"result\"]\n",
    "df=pd.DataFrame(students,columns=cols)\n",
    "obj=SimpleImputer(strategy=\"mean\")\n",
    "x=df[[\"marks\"]].values\n",
    "df[\"marks\"]=obj.fit_transform(x)\n",
    "df"
   ]
  },
  {
   "cell_type": "code",
   "execution_count": 36,
   "id": "9c913558-71a2-4264-99e3-4436205e2d78",
   "metadata": {},
   "outputs": [
    {
     "data": {
      "text/plain": [
       "array([[1.],\n",
       "       [0.],\n",
       "       [2.],\n",
       "       [3.]])"
      ]
     },
     "execution_count": 36,
     "metadata": {},
     "output_type": "execute_result"
    }
   ],
   "source": [
    "from numpy import asarray\n",
    "from sklearn.preprocessing import OrdinalEncoder\n",
    "a=asarray([[\"rajesh\"],[\"maddi\"],[\"today\"],[\"tomorrow\"]])\n",
    "obj=OrdinalEncoder()\n",
    "result=obj.fit_transform(a)\n",
    "result"
   ]
  },
  {
   "cell_type": "code",
   "execution_count": 37,
   "id": "fe6ebe99-4354-4551-872e-16744a15236a",
   "metadata": {},
   "outputs": [
    {
     "data": {
      "text/plain": [
       "array([[1., 0., 0.],\n",
       "       [0., 0., 0.],\n",
       "       [0., 1., 0.],\n",
       "       [0., 0., 1.]])"
      ]
     },
     "execution_count": 37,
     "metadata": {},
     "output_type": "execute_result"
    }
   ],
   "source": [
    "from numpy import asarray\n",
    "from sklearn.preprocessing import OneHotEncoder\n",
    "a=asarray([[\"rajesh\"],[\"maddi\"],[\"today\"],[\"tomorrow\"]])\n",
    "obj=OneHotEncoder(drop=\"first\",sparse_output=False)\n",
    "result=obj.fit_transform(a)\n",
    "result"
   ]
  },
  {
   "cell_type": "code",
   "execution_count": 38,
   "id": "66ede5a1-ff34-4c29-8925-103c9bde74bc",
   "metadata": {},
   "outputs": [
    {
     "data": {
      "text/plain": [
       "[array([5, 7, 9, 2, 8, 3, 4]), array([0, 6, 1])]"
      ]
     },
     "execution_count": 38,
     "metadata": {},
     "output_type": "execute_result"
    }
   ],
   "source": [
    "import numpy as np\n",
    "from sklearn.model_selection import train_test_split\n",
    "a=np.arange(10)\n",
    "result=train_test_split(a,test_size=0.3)\n",
    "result"
   ]
  },
  {
   "cell_type": "code",
   "execution_count": 39,
   "id": "8ed43644-769b-4a3c-8fe2-264d26c7143d",
   "metadata": {},
   "outputs": [
    {
     "data": {
      "text/plain": [
       "array([9, 3, 6, 8, 0, 4])"
      ]
     },
     "execution_count": 39,
     "metadata": {},
     "output_type": "execute_result"
    }
   ],
   "source": [
    "import numpy as np\n",
    "from sklearn.model_selection import train_test_split\n",
    "a=np.arange(10)\n",
    "X_train,X_test=train_test_split(a,test_size=0.4)\n",
    "X_train"
   ]
  },
  {
   "cell_type": "code",
   "execution_count": 40,
   "id": "3a3ad8dc-c635-4b1f-bfbd-5897471cd724",
   "metadata": {},
   "outputs": [
    {
     "data": {
      "text/plain": [
       "array([2, 7, 1, 5])"
      ]
     },
     "execution_count": 40,
     "metadata": {},
     "output_type": "execute_result"
    }
   ],
   "source": [
    "X_test"
   ]
  },
  {
   "cell_type": "code",
   "execution_count": 41,
   "id": "6a8e75b0-ec24-4251-8bdf-5cf1cc2ca67f",
   "metadata": {},
   "outputs": [
    {
     "data": {
      "text/plain": [
       "array([[ 9, 19],\n",
       "       [ 1, 11],\n",
       "       [ 6, 16],\n",
       "       [ 7, 17],\n",
       "       [ 3, 13],\n",
       "       [ 0, 10],\n",
       "       [ 5, 15]])"
      ]
     },
     "execution_count": 41,
     "metadata": {},
     "output_type": "execute_result"
    }
   ],
   "source": [
    "import numpy as np\n",
    "from sklearn.model_selection import train_test_split\n",
    "a=np.arange(20).reshape(2,10).T\n",
    "b=np.arange(10)\n",
    "\n",
    "X_train,X_test,Y_train,Y_test=train_test_split(a,b,random_state=0)\n",
    "X_train"
   ]
  },
  {
   "cell_type": "code",
   "execution_count": 42,
   "id": "b6d7124c-32b2-4c32-ab4a-38358f09f0b3",
   "metadata": {},
   "outputs": [
    {
     "data": {
      "text/plain": [
       "array([[ 2, 12],\n",
       "       [ 8, 18],\n",
       "       [ 4, 14]])"
      ]
     },
     "execution_count": 42,
     "metadata": {},
     "output_type": "execute_result"
    }
   ],
   "source": [
    "X_test"
   ]
  },
  {
   "cell_type": "code",
   "execution_count": 43,
   "id": "02c64433-4e9e-4d4a-a71c-1ce48ec6522f",
   "metadata": {},
   "outputs": [
    {
     "data": {
      "text/plain": [
       "array([9, 1, 6, 7, 3, 0, 5])"
      ]
     },
     "execution_count": 43,
     "metadata": {},
     "output_type": "execute_result"
    }
   ],
   "source": [
    "Y_train"
   ]
  },
  {
   "cell_type": "code",
   "execution_count": 44,
   "id": "7fbaf289-4016-43cf-bd2e-6bbde1621946",
   "metadata": {},
   "outputs": [
    {
     "data": {
      "text/plain": [
       "array([2, 8, 4])"
      ]
     },
     "execution_count": 44,
     "metadata": {},
     "output_type": "execute_result"
    }
   ],
   "source": [
    "Y_test"
   ]
  },
  {
   "cell_type": "code",
   "execution_count": 45,
   "id": "78729744-4ecc-4f34-9add-39206feed1fb",
   "metadata": {},
   "outputs": [
    {
     "data": {
      "text/html": [
       "<div>\n",
       "<style scoped>\n",
       "    .dataframe tbody tr th:only-of-type {\n",
       "        vertical-align: middle;\n",
       "    }\n",
       "\n",
       "    .dataframe tbody tr th {\n",
       "        vertical-align: top;\n",
       "    }\n",
       "\n",
       "    .dataframe thead th {\n",
       "        text-align: right;\n",
       "    }\n",
       "</style>\n",
       "<table border=\"1\" class=\"dataframe\">\n",
       "  <thead>\n",
       "    <tr style=\"text-align: right;\">\n",
       "      <th></th>\n",
       "      <th>area</th>\n",
       "      <th>price</th>\n",
       "    </tr>\n",
       "  </thead>\n",
       "  <tbody>\n",
       "    <tr>\n",
       "      <th>0</th>\n",
       "      <td>2600</td>\n",
       "      <td>550000</td>\n",
       "    </tr>\n",
       "    <tr>\n",
       "      <th>1</th>\n",
       "      <td>3000</td>\n",
       "      <td>565000</td>\n",
       "    </tr>\n",
       "    <tr>\n",
       "      <th>2</th>\n",
       "      <td>3200</td>\n",
       "      <td>610000</td>\n",
       "    </tr>\n",
       "    <tr>\n",
       "      <th>3</th>\n",
       "      <td>3600</td>\n",
       "      <td>680000</td>\n",
       "    </tr>\n",
       "    <tr>\n",
       "      <th>4</th>\n",
       "      <td>4000</td>\n",
       "      <td>725000</td>\n",
       "    </tr>\n",
       "  </tbody>\n",
       "</table>\n",
       "</div>"
      ],
      "text/plain": [
       "   area   price\n",
       "0  2600  550000\n",
       "1  3000  565000\n",
       "2  3200  610000\n",
       "3  3600  680000\n",
       "4  4000  725000"
      ]
     },
     "execution_count": 45,
     "metadata": {},
     "output_type": "execute_result"
    }
   ],
   "source": [
    "import pandas as pd\n",
    "from sklearn.linear_model import LinearRegression\n",
    "df=pd.read_csv(\"homeprices.csv\")\n",
    "df"
   ]
  },
  {
   "cell_type": "code",
   "execution_count": 46,
   "id": "4b91e0bf-8ac4-47be-992d-1843985fd68b",
   "metadata": {},
   "outputs": [
    {
     "data": {
      "text/plain": [
       "<matplotlib.collections.PathCollection at 0x18c2c505590>"
      ]
     },
     "execution_count": 46,
     "metadata": {},
     "output_type": "execute_result"
    },
    {
     "data": {
      "image/png": "[encoded data removed]",
      "text/plain": [
       "<Figure size 640x480 with 1 Axes>"
      ]
     },
     "metadata": {},
     "output_type": "display_data"
    }
   ],
   "source": [
    "import matplotlib.pyplot as plt\n",
    "plt.xlabel(\"area\")\n",
    "plt.ylabel(\"price\")\n",
    "plt.scatter(df[\"area\"],df[\"price\"],marker=\"*\")\n"
   ]
  },
  {
   "cell_type": "code",
   "execution_count": 47,
   "id": "29e4e250-59fd-4fd0-8c60-0e8835ff5e04",
   "metadata": {},
   "outputs": [
    {
     "data": {
      "text/plain": [
       "array([[2600],\n",
       "       [3000],\n",
       "       [3200],\n",
       "       [3600],\n",
       "       [4000]])"
      ]
     },
     "execution_count": 47,
     "metadata": {},
     "output_type": "execute_result"
    }
   ],
   "source": [
    "df1=df.drop(\"price\",axis=\"columns\")\n",
    "df1.values"
   ]
  },
  {
   "cell_type": "code",
   "execution_count": 48,
   "id": "6f704a35-e467-407a-9055-a0c022b8be09",
   "metadata": {},
   "outputs": [
    {
     "data": {
      "text/plain": [
       "array([550000, 565000, 610000, 680000, 725000])"
      ]
     },
     "execution_count": 48,
     "metadata": {},
     "output_type": "execute_result"
    }
   ],
   "source": [
    "df[\"price\"].values"
   ]
  },
  {
   "cell_type": "code",
   "execution_count": 49,
   "id": "dc29976d-4ac7-4aa9-a7b2-85904ae5ec71",
   "metadata": {},
   "outputs": [
    {
     "name": "stdout",
     "output_type": "stream",
     "text": [
      "[791660.95890411]\n"
     ]
    }
   ],
   "source": [
    "obj=LinearRegression()\n",
    "obj.fit(df1.values,df.price.values)\n",
    "print(obj.predict([[4500]]))"
   ]
  },
  {
   "cell_type": "code",
   "execution_count": 50,
   "id": "ade8bd4d-7a68-484f-8d7b-98ad6605325e",
   "metadata": {},
   "outputs": [
    {
     "data": {
      "text/html": [
       "<div>\n",
       "<style scoped>\n",
       "    .dataframe tbody tr th:only-of-type {\n",
       "        vertical-align: middle;\n",
       "    }\n",
       "\n",
       "    .dataframe tbody tr th {\n",
       "        vertical-align: top;\n",
       "    }\n",
       "\n",
       "    .dataframe thead th {\n",
       "        text-align: right;\n",
       "    }\n",
       "</style>\n",
       "<table border=\"1\" class=\"dataframe\">\n",
       "  <thead>\n",
       "    <tr style=\"text-align: right;\">\n",
       "      <th></th>\n",
       "      <th>area</th>\n",
       "      <th>price</th>\n",
       "    </tr>\n",
       "  </thead>\n",
       "  <tbody>\n",
       "    <tr>\n",
       "      <th>0</th>\n",
       "      <td>2600</td>\n",
       "      <td>550000</td>\n",
       "    </tr>\n",
       "    <tr>\n",
       "      <th>1</th>\n",
       "      <td>3000</td>\n",
       "      <td>565000</td>\n",
       "    </tr>\n",
       "    <tr>\n",
       "      <th>2</th>\n",
       "      <td>3200</td>\n",
       "      <td>610000</td>\n",
       "    </tr>\n",
       "    <tr>\n",
       "      <th>3</th>\n",
       "      <td>3600</td>\n",
       "      <td>680000</td>\n",
       "    </tr>\n",
       "    <tr>\n",
       "      <th>4</th>\n",
       "      <td>4000</td>\n",
       "      <td>725000</td>\n",
       "    </tr>\n",
       "  </tbody>\n",
       "</table>\n",
       "</div>"
      ],
      "text/plain": [
       "   area   price\n",
       "0  2600  550000\n",
       "1  3000  565000\n",
       "2  3200  610000\n",
       "3  3600  680000\n",
       "4  4000  725000"
      ]
     },
     "execution_count": 50,
     "metadata": {},
     "output_type": "execute_result"
    }
   ],
   "source": [
    "import pandas as pd\n",
    "from sklearn.linear_model import LinearRegression\n",
    "df=pd.read_csv(\"homeprices.csv\")\n",
    "df"
   ]
  },
  {
   "cell_type": "code",
   "execution_count": 51,
   "id": "f18cebf7-d918-4371-b528-2965310dffa1",
   "metadata": {},
   "outputs": [
    {
     "data": {
      "text/plain": [
       "array([[2600],\n",
       "       [3000],\n",
       "       [3200],\n",
       "       [3600],\n",
       "       [4000]])"
      ]
     },
     "execution_count": 51,
     "metadata": {},
     "output_type": "execute_result"
    }
   ],
   "source": [
    "df1=df.drop(columns=\"price\")\n",
    "df1.values"
   ]
  },
  {
   "cell_type": "code",
   "execution_count": 52,
   "id": "6916e447-14af-4bb9-b520-38eee8f1818d",
   "metadata": {},
   "outputs": [
    {
     "data": {
      "text/plain": [
       "array([550000, 565000, 610000, 680000, 725000])"
      ]
     },
     "execution_count": 52,
     "metadata": {},
     "output_type": "execute_result"
    }
   ],
   "source": [
    "df.price.values"
   ]
  },
  {
   "cell_type": "code",
   "execution_count": 53,
   "id": "5d6f8ef4-fe15-4d32-8488-e03956bb6f3a",
   "metadata": {},
   "outputs": [
    {
     "name": "stdout",
     "output_type": "stream",
     "text": [
      "[791660.95890411]\n"
     ]
    }
   ],
   "source": [
    "obj.fit(df1.values,df.price.values)\n",
    "print(obj.predict([[4500]]))"
   ]
  },
  {
   "cell_type": "code",
   "execution_count": 54,
   "id": "e9fe5d06-eecf-4389-a0af-8c77d2e34da7",
   "metadata": {},
   "outputs": [
    {
     "data": {
      "text/html": [
       "<div>\n",
       "<style scoped>\n",
       "    .dataframe tbody tr th:only-of-type {\n",
       "        vertical-align: middle;\n",
       "    }\n",
       "\n",
       "    .dataframe tbody tr th {\n",
       "        vertical-align: top;\n",
       "    }\n",
       "\n",
       "    .dataframe thead th {\n",
       "        text-align: right;\n",
       "    }\n",
       "</style>\n",
       "<table border=\"1\" class=\"dataframe\">\n",
       "  <thead>\n",
       "    <tr style=\"text-align: right;\">\n",
       "      <th></th>\n",
       "      <th>names</th>\n",
       "      <th>values</th>\n",
       "      <th>names_n</th>\n",
       "      <th>values_n</th>\n",
       "    </tr>\n",
       "  </thead>\n",
       "  <tbody>\n",
       "    <tr>\n",
       "      <th>0</th>\n",
       "      <td>rajesh</td>\n",
       "      <td>hyd</td>\n",
       "      <td>1</td>\n",
       "      <td>0</td>\n",
       "    </tr>\n",
       "    <tr>\n",
       "      <th>1</th>\n",
       "      <td>maddi</td>\n",
       "      <td>vija</td>\n",
       "      <td>0</td>\n",
       "      <td>3</td>\n",
       "    </tr>\n",
       "    <tr>\n",
       "      <th>2</th>\n",
       "      <td>today</td>\n",
       "      <td>kera</td>\n",
       "      <td>2</td>\n",
       "      <td>1</td>\n",
       "    </tr>\n",
       "    <tr>\n",
       "      <th>3</th>\n",
       "      <td>tomorrow</td>\n",
       "      <td>kra</td>\n",
       "      <td>3</td>\n",
       "      <td>2</td>\n",
       "    </tr>\n",
       "  </tbody>\n",
       "</table>\n",
       "</div>"
      ],
      "text/plain": [
       "      names values  names_n  values_n\n",
       "0    rajesh    hyd        1         0\n",
       "1     maddi   vija        0         3\n",
       "2     today   kera        2         1\n",
       "3  tomorrow    kra        3         2"
      ]
     },
     "execution_count": 54,
     "metadata": {},
     "output_type": "execute_result"
    }
   ],
   "source": [
    "import pandas as pd\n",
    "from sklearn.preprocessing import LabelEncoder\n",
    "a={\n",
    "    \"names\":[\"rajesh\",\"maddi\",\"today\",\"tomorrow\"],\n",
    "     \"values\":[\"hyd\",\"vija\",\"kera\",\"kra\"]\n",
    "}\n",
    "df=pd.DataFrame(a)\n",
    "obj=LabelEncoder()\n",
    "df[\"names_n\"]=obj.fit_transform(df[\"names\"])\n",
    "df[\"values_n\"]=obj.fit_transform(df[\"values\"])\n",
    "df"
   ]
  },
  {
   "cell_type": "code",
   "execution_count": 56,
   "id": "357ef917-031a-4875-a8b3-671f04ae6dae",
   "metadata": {},
   "outputs": [
    {
     "data": {
      "text/html": [
       "<div>\n",
       "<style scoped>\n",
       "    .dataframe tbody tr th:only-of-type {\n",
       "        vertical-align: middle;\n",
       "    }\n",
       "\n",
       "    .dataframe tbody tr th {\n",
       "        vertical-align: top;\n",
       "    }\n",
       "\n",
       "    .dataframe thead th {\n",
       "        text-align: right;\n",
       "    }\n",
       "</style>\n",
       "<table border=\"1\" class=\"dataframe\">\n",
       "  <thead>\n",
       "    <tr style=\"text-align: right;\">\n",
       "      <th></th>\n",
       "      <th>x</th>\n",
       "      <th>y</th>\n",
       "    </tr>\n",
       "  </thead>\n",
       "  <tbody>\n",
       "    <tr>\n",
       "      <th>0</th>\n",
       "      <td>0.0</td>\n",
       "      <td>0.0</td>\n",
       "    </tr>\n",
       "    <tr>\n",
       "      <th>1</th>\n",
       "      <td>0.2</td>\n",
       "      <td>0.2</td>\n",
       "    </tr>\n",
       "    <tr>\n",
       "      <th>2</th>\n",
       "      <td>0.4</td>\n",
       "      <td>0.4</td>\n",
       "    </tr>\n",
       "    <tr>\n",
       "      <th>3</th>\n",
       "      <td>0.6</td>\n",
       "      <td>0.6</td>\n",
       "    </tr>\n",
       "    <tr>\n",
       "      <th>4</th>\n",
       "      <td>0.8</td>\n",
       "      <td>0.8</td>\n",
       "    </tr>\n",
       "    <tr>\n",
       "      <th>5</th>\n",
       "      <td>1.0</td>\n",
       "      <td>1.0</td>\n",
       "    </tr>\n",
       "  </tbody>\n",
       "</table>\n",
       "</div>"
      ],
      "text/plain": [
       "     x    y\n",
       "0  0.0  0.0\n",
       "1  0.2  0.2\n",
       "2  0.4  0.4\n",
       "3  0.6  0.6\n",
       "4  0.8  0.8\n",
       "5  1.0  1.0"
      ]
     },
     "execution_count": 56,
     "metadata": {},
     "output_type": "execute_result"
    }
   ],
   "source": [
    "import pandas as pd\n",
    "from sklearn.preprocessing import MinMaxScaler\n",
    "a={\n",
    "    \"x\":[10,20,30,40,50,60],\n",
    "    \"y\":[100,200,300,400,500,600]\n",
    "}\n",
    "df=pd.DataFrame(a)\n",
    "obj=MinMaxScaler(feature_range=(0,1))\n",
    "df[[\"x\",\"y\"]]=obj.fit_transform(df[[\"x\",\"y\"]])\n",
    "df"
   ]
  },
  {
   "cell_type": "code",
   "execution_count": 57,
   "id": "7f12583a-bd72-42fa-9c48-4abbef691b51",
   "metadata": {},
   "outputs": [
    {
     "name": "stdout",
     "output_type": "stream",
     "text": [
      "   values  area  packs\n",
      "0     234     2    234\n",
      "1     567     3    456\n",
      "2     789     4    789\n"
     ]
    }
   ],
   "source": [
    "import pandas as pd\n",
    "import numpy as np\n",
    "a={\n",
    "    \"values\":[234,567,789,999],\n",
    "     \"area\":[2,3,4,200],\n",
    "      \"packs\":[234,456,789,999]\n",
    "}\n",
    "df=pd.DataFrame(a)\n",
    "cond1=df[\"area\"]<6\n",
    "print(df[cond1])"
   ]
  },
  {
   "cell_type": "code",
   "execution_count": 58,
   "id": "34faaad8-98a6-4b86-bc2f-c4ff4a792d95",
   "metadata": {},
   "outputs": [
    {
     "data": {
      "text/html": [
       "<div>\n",
       "<style scoped>\n",
       "    .dataframe tbody tr th:only-of-type {\n",
       "        vertical-align: middle;\n",
       "    }\n",
       "\n",
       "    .dataframe tbody tr th {\n",
       "        vertical-align: top;\n",
       "    }\n",
       "\n",
       "    .dataframe thead th {\n",
       "        text-align: right;\n",
       "    }\n",
       "</style>\n",
       "<table border=\"1\" class=\"dataframe\">\n",
       "  <thead>\n",
       "    <tr style=\"text-align: right;\">\n",
       "      <th></th>\n",
       "      <th>values</th>\n",
       "      <th>area</th>\n",
       "      <th>packs</th>\n",
       "      <th>outliers</th>\n",
       "    </tr>\n",
       "  </thead>\n",
       "  <tbody>\n",
       "    <tr>\n",
       "      <th>0</th>\n",
       "      <td>234</td>\n",
       "      <td>2</td>\n",
       "      <td>234</td>\n",
       "      <td>0</td>\n",
       "    </tr>\n",
       "    <tr>\n",
       "      <th>1</th>\n",
       "      <td>567</td>\n",
       "      <td>3</td>\n",
       "      <td>456</td>\n",
       "      <td>0</td>\n",
       "    </tr>\n",
       "    <tr>\n",
       "      <th>2</th>\n",
       "      <td>789</td>\n",
       "      <td>4</td>\n",
       "      <td>789</td>\n",
       "      <td>0</td>\n",
       "    </tr>\n",
       "    <tr>\n",
       "      <th>3</th>\n",
       "      <td>999</td>\n",
       "      <td>200</td>\n",
       "      <td>999</td>\n",
       "      <td>1</td>\n",
       "    </tr>\n",
       "  </tbody>\n",
       "</table>\n",
       "</div>"
      ],
      "text/plain": [
       "   values  area  packs  outliers\n",
       "0     234     2    234         0\n",
       "1     567     3    456         0\n",
       "2     789     4    789         0\n",
       "3     999   200    999         1"
      ]
     },
     "execution_count": 58,
     "metadata": {},
     "output_type": "execute_result"
    }
   ],
   "source": [
    "df[\"outliers\"]=np.where(cond1,0,1)\n",
    "df"
   ]
  },
  {
   "cell_type": "code",
   "execution_count": 59,
   "id": "c978225b-8781-48b8-8e8f-8c6240c8bfe8",
   "metadata": {},
   "outputs": [
    {
     "data": {
      "text/html": [
       "<div>\n",
       "<style scoped>\n",
       "    .dataframe tbody tr th:only-of-type {\n",
       "        vertical-align: middle;\n",
       "    }\n",
       "\n",
       "    .dataframe tbody tr th {\n",
       "        vertical-align: top;\n",
       "    }\n",
       "\n",
       "    .dataframe thead th {\n",
       "        text-align: right;\n",
       "    }\n",
       "</style>\n",
       "<table border=\"1\" class=\"dataframe\">\n",
       "  <thead>\n",
       "    <tr style=\"text-align: right;\">\n",
       "      <th></th>\n",
       "      <th>marks</th>\n",
       "      <th>gender</th>\n",
       "      <th>result</th>\n",
       "    </tr>\n",
       "  </thead>\n",
       "  <tbody>\n",
       "    <tr>\n",
       "      <th>0</th>\n",
       "      <td>85.0</td>\n",
       "      <td>M</td>\n",
       "      <td>verygood</td>\n",
       "    </tr>\n",
       "    <tr>\n",
       "      <th>1</th>\n",
       "      <td>95.0</td>\n",
       "      <td>F</td>\n",
       "      <td>excellent</td>\n",
       "    </tr>\n",
       "    <tr>\n",
       "      <th>2</th>\n",
       "      <td>60.0</td>\n",
       "      <td>NaN</td>\n",
       "      <td>good</td>\n",
       "    </tr>\n",
       "    <tr>\n",
       "      <th>3</th>\n",
       "      <td>78.0</td>\n",
       "      <td>M</td>\n",
       "      <td>average</td>\n",
       "    </tr>\n",
       "    <tr>\n",
       "      <th>4</th>\n",
       "      <td>70.0</td>\n",
       "      <td>M</td>\n",
       "      <td>good</td>\n",
       "    </tr>\n",
       "    <tr>\n",
       "      <th>5</th>\n",
       "      <td>78.0</td>\n",
       "      <td>NaN</td>\n",
       "      <td>verygood</td>\n",
       "    </tr>\n",
       "    <tr>\n",
       "      <th>6</th>\n",
       "      <td>60.0</td>\n",
       "      <td>F</td>\n",
       "      <td>verygood</td>\n",
       "    </tr>\n",
       "    <tr>\n",
       "      <th>7</th>\n",
       "      <td>98.0</td>\n",
       "      <td>M</td>\n",
       "      <td>excellent</td>\n",
       "    </tr>\n",
       "  </tbody>\n",
       "</table>\n",
       "</div>"
      ],
      "text/plain": [
       "   marks gender     result\n",
       "0   85.0      M   verygood\n",
       "1   95.0      F  excellent\n",
       "2   60.0    NaN       good\n",
       "3   78.0      M    average\n",
       "4   70.0      M       good\n",
       "5   78.0    NaN   verygood\n",
       "6   60.0      F   verygood\n",
       "7   98.0      M  excellent"
      ]
     },
     "execution_count": 59,
     "metadata": {},
     "output_type": "execute_result"
    }
   ],
   "source": [
    "import pandas as pd\n",
    "from sklearn.impute import SimpleImputer\n",
    "students = [\n",
    "              [85, 'M', 'verygood'],\n",
    "              [95, 'F', 'excellent'],\n",
    "              [60, np.nan, 'good'],\n",
    "              [np.nan, 'M', 'average'],\n",
    "               [70, 'M', 'good'],\n",
    "              [np.nan, np.nan, 'verygood'],\n",
    "              [60, 'F', 'verygood'],\n",
    "              [98, 'M', 'excellent']]\n",
    "cols=[\"marks\",\"gender\",\"result\"]\n",
    "df=pd.DataFrame(students,columns=cols)\n",
    "obj=SimpleImputer(strategy=\"mean\")\n",
    "x=df[[\"marks\"]].values\n",
    "df[\"marks\"]=obj.fit_transform(x)\n",
    "df"
   ]
  },
  {
   "cell_type": "code",
   "execution_count": 60,
   "id": "a926c8e8-54c8-4b44-8a28-d349ad4e19fe",
   "metadata": {},
   "outputs": [
    {
     "data": {
      "text/plain": [
       "array([[1.],\n",
       "       [0.],\n",
       "       [2.],\n",
       "       [3.]])"
      ]
     },
     "execution_count": 60,
     "metadata": {},
     "output_type": "execute_result"
    }
   ],
   "source": [
    "import numpy as np\n",
    "from sklearn.preprocessing import OrdinalEncoder\n",
    "a=np.asarray([[\"rajesh\"],[\"maddi\"],[\"today\"],[\"tomorrow\"]])\n",
    "obj=OrdinalEncoder()\n",
    "result=obj.fit_transform(a)\n",
    "result"
   ]
  },
  {
   "cell_type": "code",
   "execution_count": 62,
   "id": "cecdc8df-7254-42ed-9bd8-138a605260ba",
   "metadata": {},
   "outputs": [
    {
     "data": {
      "text/plain": [
       "array([[1., 0., 0.],\n",
       "       [0., 0., 0.],\n",
       "       [0., 1., 0.],\n",
       "       [0., 0., 1.]])"
      ]
     },
     "execution_count": 62,
     "metadata": {},
     "output_type": "execute_result"
    }
   ],
   "source": [
    "import numpy as np\n",
    "from sklearn.preprocessing import OneHotEncoder\n",
    "a=asarray([[\"rajesh\"],[\"maddi\"],[\"today\"],[\"tomorrow\"]])\n",
    "obj=OneHotEncoder(drop=\"first\",sparse_output=False)\n",
    "result=obj.fit_transform(a)\n",
    "result"
   ]
  },
  {
   "cell_type": "code",
   "execution_count": 63,
   "id": "7e180303-6bdc-4177-836d-ff5e1e924285",
   "metadata": {},
   "outputs": [
    {
     "data": {
      "text/html": [
       "<div>\n",
       "<style scoped>\n",
       "    .dataframe tbody tr th:only-of-type {\n",
       "        vertical-align: middle;\n",
       "    }\n",
       "\n",
       "    .dataframe tbody tr th {\n",
       "        vertical-align: top;\n",
       "    }\n",
       "\n",
       "    .dataframe thead th {\n",
       "        text-align: right;\n",
       "    }\n",
       "</style>\n",
       "<table border=\"1\" class=\"dataframe\">\n",
       "  <thead>\n",
       "    <tr style=\"text-align: right;\">\n",
       "      <th></th>\n",
       "      <th>area</th>\n",
       "      <th>price</th>\n",
       "    </tr>\n",
       "  </thead>\n",
       "  <tbody>\n",
       "    <tr>\n",
       "      <th>0</th>\n",
       "      <td>2600</td>\n",
       "      <td>550000</td>\n",
       "    </tr>\n",
       "    <tr>\n",
       "      <th>1</th>\n",
       "      <td>3000</td>\n",
       "      <td>565000</td>\n",
       "    </tr>\n",
       "    <tr>\n",
       "      <th>2</th>\n",
       "      <td>3200</td>\n",
       "      <td>610000</td>\n",
       "    </tr>\n",
       "    <tr>\n",
       "      <th>3</th>\n",
       "      <td>3600</td>\n",
       "      <td>680000</td>\n",
       "    </tr>\n",
       "    <tr>\n",
       "      <th>4</th>\n",
       "      <td>4000</td>\n",
       "      <td>725000</td>\n",
       "    </tr>\n",
       "  </tbody>\n",
       "</table>\n",
       "</div>"
      ],
      "text/plain": [
       "   area   price\n",
       "0  2600  550000\n",
       "1  3000  565000\n",
       "2  3200  610000\n",
       "3  3600  680000\n",
       "4  4000  725000"
      ]
     },
     "execution_count": 63,
     "metadata": {},
     "output_type": "execute_result"
    }
   ],
   "source": [
    "import pandas as pd\n",
    "from sklearn.linear_model import LinearRegression\n",
    "df=pd.read_csv(\"homeprices.csv\")\n",
    "df"
   ]
  },
  {
   "cell_type": "code",
   "execution_count": 64,
   "id": "c2172648-51a3-4cc1-a554-d694010c8361",
   "metadata": {},
   "outputs": [
    {
     "data": {
      "text/plain": [
       "array([[2600],\n",
       "       [3000],\n",
       "       [3200],\n",
       "       [3600],\n",
       "       [4000]])"
      ]
     },
     "execution_count": 64,
     "metadata": {},
     "output_type": "execute_result"
    }
   ],
   "source": [
    "df1=df.drop(\"price\",axis=\"columns\")\n",
    "df1.values"
   ]
  },
  {
   "cell_type": "code",
   "execution_count": 65,
   "id": "1162f8d9-270d-4b53-b9d0-e1669c760846",
   "metadata": {},
   "outputs": [
    {
     "data": {
      "text/plain": [
       "array([550000, 565000, 610000, 680000, 725000])"
      ]
     },
     "execution_count": 65,
     "metadata": {},
     "output_type": "execute_result"
    }
   ],
   "source": [
    "df.price.values"
   ]
  },
  {
   "cell_type": "code",
   "execution_count": 68,
   "id": "9a72991c-7016-46ad-99ed-3f7c7e2c74fe",
   "metadata": {},
   "outputs": [
    {
     "name": "stdout",
     "output_type": "stream",
     "text": [
      "[791660.95890411]\n"
     ]
    }
   ],
   "source": [
    "obj=LinearRegression()\n",
    "obj.fit(df1.values,df.price.values)\n",
    "print(obj.predict([[4500]]))"
   ]
  },
  {
   "cell_type": "code",
   "execution_count": null,
   "id": "336c43c1-6a6f-4909-a858-a1998da8ccba",
   "metadata": {},
   "outputs": [],
   "source": []
  },
  {
   "cell_type": "code",
   "execution_count": null,
   "id": "e452ca8e-0182-45c6-af72-99ea8037a002",
   "metadata": {},
   "outputs": [],
   "source": []
  },
  {
   "cell_type": "code",
   "execution_count": null,
   "id": "0dde65eb-49be-49c0-bfc7-b6f25be4760f",
   "metadata": {},
   "outputs": [],
   "source": []
  },
  {
   "cell_type": "code",
   "execution_count": null,
   "id": "4c717063-d4e2-44fd-aec3-72f1a50986b0",
   "metadata": {},
   "outputs": [],
   "source": []
  },
  {
   "cell_type": "code",
   "execution_count": null,
   "id": "c5c044cb-902b-4229-b18d-f7d740f7946f",
   "metadata": {},
   "outputs": [],
   "source": []
  },
  {
   "cell_type": "code",
   "execution_count": null,
   "id": "93dbe645-4758-4164-8fac-d502bbdbf9b5",
   "metadata": {},
   "outputs": [],
   "source": []
  },
  {
   "cell_type": "code",
   "execution_count": null,
   "id": "8ad5da53-c114-4adc-b674-fe5c41013a4f",
   "metadata": {},
   "outputs": [],
   "source": []
  },
  {
   "cell_type": "code",
   "execution_count": null,
   "id": "bb77fe6f-23e7-4ef5-806a-cab1099c19ce",
   "metadata": {},
   "outputs": [],
   "source": []
  },
  {
   "cell_type": "code",
   "execution_count": null,
   "id": "3d294f03-c364-4baf-af36-b86bf9f078be",
   "metadata": {},
   "outputs": [],
   "source": []
  },
  {
   "cell_type": "code",
   "execution_count": null,
   "id": "0534d47d-a11f-4763-a6ea-1704c5ea4351",
   "metadata": {},
   "outputs": [],
   "source": []
  },
  {
   "cell_type": "code",
   "execution_count": null,
   "id": "0be167ea-917b-441a-acbd-02f4b27a1035",
   "metadata": {},
   "outputs": [],
   "source": []
  },
  {
   "cell_type": "code",
   "execution_count": null,
   "id": "68cf20b0-4a98-4689-8914-0e816a6f94d3",
   "metadata": {},
   "outputs": [],
   "source": []
  },
  {
   "cell_type": "code",
   "execution_count": null,
   "id": "bf781e6e-cf73-41d8-8c53-1556a2a91f06",
   "metadata": {},
   "outputs": [],
   "source": []
  },
  {
   "cell_type": "code",
   "execution_count": null,
   "id": "1828f7a6-3def-4534-a4a8-e1fb78c02c09",
   "metadata": {},
   "outputs": [],
   "source": []
  },
  {
   "cell_type": "code",
   "execution_count": null,
   "id": "2d8b7e47-1315-4f40-b093-3c08af57ef90",
   "metadata": {},
   "outputs": [],
   "source": []
  }
 ],
 "metadata": {
  "kernelspec": {
   "display_name": "Python 3 (ipykernel)",
   "language": "python",
   "name": "python3"
  },
  "language_info": {
   "codemirror_mode": {
    "name": "ipython",
    "version": 3
   },
   "file_extension": ".py",
   "mimetype": "text/x-python",
   "name": "python",
   "nbconvert_exporter": "python",
   "pygments_lexer": "ipython3",
   "version": "3.13.1"
  }
 },
 "nbformat": 4,
 "nbformat_minor": 5
}
